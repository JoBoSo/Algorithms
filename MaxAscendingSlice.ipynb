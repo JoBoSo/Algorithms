{
 "cells": [
  {
   "cell_type": "code",
   "execution_count": 1,
   "metadata": {},
   "outputs": [],
   "source": [
    "#  maxAscSlice(A): produces the index position of the start of the longest ascending slice of numbers in A.\n",
    "#  maxAscSlice: (List of Int or Float) --> Int\n",
    "def maxAscSlice(A):\n",
    "    maximum = 0 # max length\n",
    "    curr = 0 # current length - 1\n",
    "    imax = 0 # index for beginning of max asc slice\n",
    "    for i in range(len(A)-1):\n",
    "        if A[i] < A[i+1]:\n",
    "            curr += 1\n",
    "        if curr > maximum:\n",
    "            maximum = curr\n",
    "            imax = i - (curr - 1)\n",
    "        else:\n",
    "            curr = 0\n",
    "    return imax"
   ]
  },
  {
   "cell_type": "code",
   "execution_count": 2,
   "metadata": {},
   "outputs": [
    {
     "data": {
      "text/plain": [
       "4"
      ]
     },
     "execution_count": 2,
     "metadata": {},
     "output_type": "execute_result"
    }
   ],
   "source": [
    "# example 1 - [1,2] is the max ascending slice with beginning index = 4\n",
    "maxi = maxAscSlice([2, 2, 2, 2, 1, 2, -1, 2, 1, 3])\n",
    "maxi"
   ]
  },
  {
   "cell_type": "code",
   "execution_count": 3,
   "metadata": {},
   "outputs": [
    {
     "data": {
      "text/plain": [
       "5"
      ]
     },
     "execution_count": 3,
     "metadata": {},
     "output_type": "execute_result"
    }
   ],
   "source": [
    "# example 2 - [-10,0,1,2,3,4,5] is the max ascending slice with beginning index = 5\n",
    "maxi2 = maxAscSlice([3, 2, 1, 0, -1, -10, 0, 1, 2, 3, 4, 5, -1])\n",
    "maxi2"
   ]
  }
 ],
 "metadata": {
  "kernelspec": {
   "display_name": "Python 3",
   "language": "python",
   "name": "python3"
  },
  "language_info": {
   "codemirror_mode": {
    "name": "ipython",
    "version": 3
   },
   "file_extension": ".py",
   "mimetype": "text/x-python",
   "name": "python",
   "nbconvert_exporter": "python",
   "pygments_lexer": "ipython3",
   "version": "3.7.3"
  }
 },
 "nbformat": 4,
 "nbformat_minor": 2
}
