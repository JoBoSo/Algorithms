{
 "cells": [
  {
   "cell_type": "markdown",
   "metadata": {},
   "source": [
    "## Time Periods in datetime"
   ]
  },
  {
   "cell_type": "code",
   "execution_count": 1,
   "metadata": {},
   "outputs": [],
   "source": [
    "import datetime as dt"
   ]
  },
  {
   "cell_type": "code",
   "execution_count": 2,
   "metadata": {},
   "outputs": [],
   "source": [
    "# periods(start, end, interval) produces a dictionary containing the date or\n",
    "#    date range in datetime for each period of length interval between start and\n",
    "#    end. For interval in (1y, 1m, 1w), the dict is of the form \n",
    "#    {period: [period start, period end]}. For interval of 1d, the dict is of\n",
    "#    the form {period: day}.\n",
    "# Requires:\n",
    "#    start and end are of the form YYYY/MM/DD\n",
    "#    interval is one of 1y, 1m, 1w, 1d  \n",
    "# periods: Str Str Str --> Dict\n",
    "def periods(start, end, interval):\n",
    "    dt_format = lambda d: dt.date(int(d[:4]), int(d[5:7]), int(d[8:10]))\n",
    "    start = dt_format(start)\n",
    "    end = dt_format(end)\n",
    "    \n",
    "    periods = {}\n",
    "    curr_period = 1\n",
    "    period_start = start\n",
    "    period_end = None\n",
    "    \n",
    "    a_day = dt.timedelta(days=1)\n",
    "    a_week = dt.timedelta(weeks=1)\n",
    "\n",
    "    if interval == '1y':\n",
    "        while period_end == None or period_start.replace(period_start.year + 1) - a_day <= end:\n",
    "            period_end = period_start.replace(period_start.year + 1) - a_day\n",
    "            periods[curr_period] = [period_start, period_end]\n",
    "            period_start = period_end + a_day\n",
    "            curr_period += 1\n",
    "\n",
    "    elif interval == '1m':\n",
    "        next_month = lambda date: \\\n",
    "            date.replace(month=date.month + 1) if date.month < 12 \\\n",
    "            else date.replace(month=1, year=date.year+1)\n",
    "        while period_end == None or next_month(period_start) - a_day <= end:\n",
    "            period_end = next_month(period_start) - a_day\n",
    "            periods[curr_period] = [period_start, period_end]\n",
    "            period_start = period_end + a_day\n",
    "            curr_period += 1\n",
    "            \n",
    "    elif interval == '1w':\n",
    "        while period_end == None or (period_start + a_week - a_day) <= end:\n",
    "            period_end = period_start + a_week - a_day\n",
    "            periods[curr_period] = [period_start, period_end]\n",
    "            period_start = period_end + a_day\n",
    "            curr_period += 1\n",
    "            \n",
    "    elif interval == '1d':\n",
    "        while period_start <= end:\n",
    "            periods[curr_period] = period_start\n",
    "            period_start += a_day\n",
    "            curr_period += 1    \n",
    "            \n",
    "    return periods"
   ]
  },
  {
   "cell_type": "code",
   "execution_count": 3,
   "metadata": {},
   "outputs": [
    {
     "data": {
      "text/plain": [
       "{1: [datetime.date(2010, 1, 15), datetime.date(2011, 1, 14)],\n",
       " 2: [datetime.date(2011, 1, 15), datetime.date(2012, 1, 14)],\n",
       " 3: [datetime.date(2012, 1, 15), datetime.date(2013, 1, 14)],\n",
       " 4: [datetime.date(2013, 1, 15), datetime.date(2014, 1, 14)],\n",
       " 5: [datetime.date(2014, 1, 15), datetime.date(2015, 1, 14)]}"
      ]
     },
     "execution_count": 3,
     "metadata": {},
     "output_type": "execute_result"
    }
   ],
   "source": [
    "# Example 1 - years\n",
    "p1 = periods('2010/01/15', '2016/01/01', '1y')\n",
    "p1"
   ]
  },
  {
   "cell_type": "code",
   "execution_count": 4,
   "metadata": {},
   "outputs": [
    {
     "data": {
      "text/plain": [
       "{1: [datetime.date(2015, 1, 15), datetime.date(2015, 2, 14)],\n",
       " 2: [datetime.date(2015, 2, 15), datetime.date(2015, 3, 14)],\n",
       " 3: [datetime.date(2015, 3, 15), datetime.date(2015, 4, 14)],\n",
       " 4: [datetime.date(2015, 4, 15), datetime.date(2015, 5, 14)],\n",
       " 5: [datetime.date(2015, 5, 15), datetime.date(2015, 6, 14)],\n",
       " 6: [datetime.date(2015, 6, 15), datetime.date(2015, 7, 14)],\n",
       " 7: [datetime.date(2015, 7, 15), datetime.date(2015, 8, 14)],\n",
       " 8: [datetime.date(2015, 8, 15), datetime.date(2015, 9, 14)],\n",
       " 9: [datetime.date(2015, 9, 15), datetime.date(2015, 10, 14)],\n",
       " 10: [datetime.date(2015, 10, 15), datetime.date(2015, 11, 14)],\n",
       " 11: [datetime.date(2015, 11, 15), datetime.date(2015, 12, 14)]}"
      ]
     },
     "execution_count": 4,
     "metadata": {},
     "output_type": "execute_result"
    }
   ],
   "source": [
    "# Example 1 - months\n",
    "p1 = periods('2015/01/15', '2016/01/01', '1m')\n",
    "p1"
   ]
  },
  {
   "cell_type": "code",
   "execution_count": 5,
   "metadata": {},
   "outputs": [
    {
     "data": {
      "text/plain": [
       "{1: datetime.date(2019, 1, 15),\n",
       " 2: datetime.date(2019, 1, 16),\n",
       " 3: datetime.date(2019, 1, 17),\n",
       " 4: datetime.date(2019, 1, 18),\n",
       " 5: datetime.date(2019, 1, 19),\n",
       " 6: datetime.date(2019, 1, 20),\n",
       " 7: datetime.date(2019, 1, 21),\n",
       " 8: datetime.date(2019, 1, 22),\n",
       " 9: datetime.date(2019, 1, 23),\n",
       " 10: datetime.date(2019, 1, 24),\n",
       " 11: datetime.date(2019, 1, 25),\n",
       " 12: datetime.date(2019, 1, 26),\n",
       " 13: datetime.date(2019, 1, 27),\n",
       " 14: datetime.date(2019, 1, 28),\n",
       " 15: datetime.date(2019, 1, 29),\n",
       " 16: datetime.date(2019, 1, 30),\n",
       " 17: datetime.date(2019, 1, 31),\n",
       " 18: datetime.date(2019, 2, 1)}"
      ]
     },
     "execution_count": 5,
     "metadata": {},
     "output_type": "execute_result"
    }
   ],
   "source": [
    "# Example 1 - days\n",
    "p1 = periods('2019/01/15', '2019/02/01', '1d')\n",
    "p1"
   ]
  }
 ],
 "metadata": {
  "kernelspec": {
   "display_name": "Python 3",
   "language": "python",
   "name": "python3"
  },
  "language_info": {
   "codemirror_mode": {
    "name": "ipython",
    "version": 3
   },
   "file_extension": ".py",
   "mimetype": "text/x-python",
   "name": "python",
   "nbconvert_exporter": "python",
   "pygments_lexer": "ipython3",
   "version": "3.7.3"
  }
 },
 "nbformat": 4,
 "nbformat_minor": 2
}
