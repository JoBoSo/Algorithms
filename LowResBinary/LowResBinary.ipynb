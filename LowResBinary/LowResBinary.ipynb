{
 "cells": [
  {
   "cell_type": "markdown",
   "metadata": {},
   "source": [
    "The program converts a binary image, made of 0's and 1's, into a low resolution version of itself based on a given factor."
   ]
  },
  {
   "cell_type": "code",
   "execution_count": 1,
   "metadata": {},
   "outputs": [],
   "source": [
    "from subgrid import *\n",
    "from grids import *\n",
    "from math import *"
   ]
  },
  {
   "cell_type": "code",
   "execution_count": 2,
   "metadata": {},
   "outputs": [],
   "source": [
    "# winner(grid) produces 1 if at least half of the entries in grid are 1.\n",
    "#     Otherwise, 0 is produced.\n",
    "# winner: Grid -> Int\n",
    "# Requires: all grid entries are either 1 or 0.\n",
    "def winner(grid):\n",
    "    height = len(grid.access_col(0))\n",
    "    length = len(grid.access_row(0))\n",
    "    n_zero = 0\n",
    "    n_one = 0\n",
    "    for i in range(height):\n",
    "        for j in range(length):\n",
    "            if grid.access(i, j) == 0:\n",
    "                n_zero = n_zero + 1\n",
    "            else:\n",
    "                n_one = n_one + 1\n",
    "    if n_one >= n_zero:\n",
    "        return 1\n",
    "    else:\n",
    "        return 0\n",
    "    \n",
    "# low_res(grid, k) produces a grid of 0's and 1's with the number of columns\n",
    "#     and rows in the input grid reduced by a factor of k. The input grid is\n",
    "#     chopped into distinct kxk subgrids, which are run through the helper\n",
    "#     function, winner, to determine whether a 1 or 0 will be entered into\n",
    "#     the new, smaller grid.\n",
    "# low_res: Grid Int -> Grid\n",
    "# Requires: all grid entries are either 1 or 0.\n",
    "def low_res(grid, k):\n",
    "    height = len(grid.access_col(0)) // k\n",
    "    length = len(grid.access_row(0)) // k\n",
    "    small_grid = Grid(height, length)\n",
    "    for i in range(height):\n",
    "        for j in range(length):\n",
    "            if i > 0 and j > 0:\n",
    "                n = winner(subgrid(grid, i*k, ((i+1)*k)-1, j*k, ((j+1)*k)-1))\n",
    "                small_grid.enter(i, j, n)\n",
    "            elif i == 0 and j > 0:\n",
    "                n = winner(subgrid(grid, 0, k, j*k, ((j+1)*k)-1))\n",
    "                small_grid.enter(i, j, n)    \n",
    "            elif i > 0 and j == 0:\n",
    "                n = winner(subgrid(grid, i*k, ((i+1)*k)-1, 0, k))\n",
    "                small_grid.enter(i, j, n)                  \n",
    "            elif i == 0 and j == 0:\n",
    "                n = winner(subgrid(grid, 0, k, 0, k))\n",
    "                small_grid.enter(i, j, n)\n",
    "            else:\n",
    "                None\n",
    "    return small_grid"
   ]
  },
  {
   "cell_type": "code",
   "execution_count": 3,
   "metadata": {},
   "outputs": [
    {
     "data": {
      "text/plain": [
       "[0, 0, 0, 1, 1, 0, 0, 0]\n",
       "[0, 1, 0, 0, 0, 0, 1, 0]\n",
       "[1, 0, 0, 0, 0, 0, 0, 1]\n",
       "[1, 0, 1, 0, 0, 1, 0, 1]\n",
       "[1, 0, 0, 0, 0, 0, 0, 1]\n",
       "[1, 0, 1, 1, 1, 1, 0, 1]\n",
       "[0, 1, 0, 0, 0, 0, 1, 0]\n",
       "[0, 0, 1, 1, 1, 1, 0, 0]"
      ]
     },
     "execution_count": 3,
     "metadata": {},
     "output_type": "execute_result"
    }
   ],
   "source": [
    "# Example - convert smile to a low res, 3x3 version of itself.\n",
    "\n",
    "smile = Grid(24,24)\n",
    "\n",
    "smile.enter_row(0, [0,0,0,0,0,0,0,0,0,0,0,0,0,0,0,0,0,0,0,0,0,0,0,0])\n",
    "smile.enter_row(1, [0,0,0,0,0,0,0,0,1,1,1,1,1,1,1,1,0,0,0,0,0,0,0,0])\n",
    "smile.enter_row(2, [0,0,0,0,0,0,1,1,1,1,1,1,1,1,1,1,1,1,0,0,0,0,0,0])\n",
    "smile.enter_row(3, [0,0,0,0,1,1,1,0,0,0,0,0,0,0,0,0,0,1,1,1,0,0,0,0])\n",
    "smile.enter_row(4, [0,0,0,1,1,1,0,0,0,0,0,0,0,0,0,0,0,0,1,1,1,0,0,0])\n",
    "smile.enter_row(5, [0,0,1,1,1,0,0,0,0,0,0,0,0,0,0,0,0,0,0,1,1,1,0,0])\n",
    "smile.enter_row(6, [0,1,1,1,0,0,0,0,0,0,0,0,0,0,0,0,0,0,0,0,1,1,1,0])\n",
    "smile.enter_row(7, [0,1,1,0,0,0,0,0,0,0,0,0,0,0,0,0,0,0,0,0,0,1,1,0])\n",
    "smile.enter_row(8, [0,1,1,0,0,0,0,1,1,0,0,0,0,0,0,1,1,0,0,0,0,1,1,0])\n",
    "smile.enter_row(9, [0,1,1,0,0,0,1,1,1,1,0,0,0,0,1,1,1,1,0,0,0,1,1,0])\n",
    "smile.enter_row(10,[0,1,1,0,0,0,1,1,1,1,0,0,0,0,1,1,1,1,0,0,0,1,1,0])\n",
    "smile.enter_row(11,[0,1,1,0,0,0,0,1,1,0,0,0,0,0,0,1,1,0,0,0,0,1,1,0])\n",
    "smile.enter_row(12,[0,1,1,0,0,0,0,0,0,0,0,0,0,0,0,0,0,0,0,0,0,1,1,0])\n",
    "smile.enter_row(13,[0,1,1,0,0,0,0,0,0,0,0,0,0,0,0,0,0,0,0,0,0,1,1,0])\n",
    "smile.enter_row(14,[0,1,1,0,0,0,0,0,0,0,0,0,0,0,0,0,0,0,0,0,0,1,1,0])\n",
    "smile.enter_row(15,[0,1,1,0,0,0,1,1,1,1,1,1,1,1,1,1,1,1,0,0,0,1,1,0])\n",
    "smile.enter_row(16,[0,1,1,0,0,0,0,1,1,1,1,1,1,1,1,1,1,0,0,0,0,1,1,0])\n",
    "smile.enter_row(17,[0,1,1,1,0,0,0,0,1,1,1,1,1,1,1,1,0,0,0,0,1,1,1,0])\n",
    "smile.enter_row(18,[0,0,1,1,1,0,0,0,0,0,0,0,0,0,0,0,0,0,0,1,1,1,0,0])\n",
    "smile.enter_row(19,[0,0,0,1,1,1,0,0,0,0,0,0,0,0,0,0,0,0,1,1,1,0,0,0])\n",
    "smile.enter_row(20,[0,0,0,0,1,1,1,0,0,0,0,0,0,0,0,0,0,1,1,1,0,0,0,0])\n",
    "smile.enter_row(21,[0,0,0,0,0,0,1,1,1,1,1,1,1,1,1,1,1,1,0,0,0,0,0,0])\n",
    "smile.enter_row(22,[0,0,0,0,0,0,0,1,1,1,1,1,1,1,1,1,1,0,0,0,0,0,0,0])\n",
    "smile.enter_row(23,[0,0,0,0,0,0,0,0,0,0,0,0,0,0,0,0,0,0,0,0,0,0,0,0])\n",
    "\n",
    "low_res(smile, 3)"
   ]
  }
 ],
 "metadata": {
  "kernelspec": {
   "display_name": "Python 3",
   "language": "python",
   "name": "python3"
  },
  "language_info": {
   "codemirror_mode": {
    "name": "ipython",
    "version": 3
   },
   "file_extension": ".py",
   "mimetype": "text/x-python",
   "name": "python",
   "nbconvert_exporter": "python",
   "pygments_lexer": "ipython3",
   "version": "3.7.3"
  }
 },
 "nbformat": 4,
 "nbformat_minor": 2
}
